{
 "cells": [
  {
   "cell_type": "markdown",
   "metadata": {},
   "source": [
    "## 1. Merge Root Files"
   ]
  },
  {
   "cell_type": "code",
   "execution_count": null,
   "metadata": {},
   "outputs": [],
   "source": [
    "import Radiography_Library as RadLib\n",
    "\n",
    "directory = '/Users/miguelcomett/geant4-v11.2.2_2/ESTANCIA' + '/'\n",
    "directory = 'BUILD/ROOT/'\n",
    "\n",
    "starts_with = 'CT'\n",
    "output_name = 'Aang_180'\n",
    "\n",
    "# trim_coords = None\n",
    "trim_coords = (-250, 250, -270, 230)  # x_min, x_max, y_min, y_max\n",
    "\n",
    "RadLib.MergeRoots_Parallel(directory, starts_with, output_name, trim_coords) "
   ]
  },
  {
   "cell_type": "markdown",
   "metadata": {},
   "source": [
    "### 1.2. Get ROOT Summary Data "
   ]
  },
  {
   "cell_type": "code",
   "execution_count": null,
   "metadata": {},
   "outputs": [],
   "source": [
    "import Radiography_Library as RadLib\n",
    "\n",
    "directory = '/Users/miguelcomett/geant4-v11.2.2_2/ESTANCIA' + '/'\n",
    "root_file = 'thorax_80_2285' + '.root'\n",
    "tree_1 = 'Hits'\n",
    "branch_1 = 'x_ax'\n",
    "tree_2 = 'Run Summary'\n",
    "branches_2 = ['Number_of_Photons', 'EDep_Value_TeV', 'Radiation_Dose_uSv']\n",
    "\n",
    "NumberofHits, NumberofPhotons, EnergyDeposition, RadiationDose = RadLib.Summary_Data(directory, root_file, tree_1, branch_1, tree_2, branches_2)\n",
    "\n",
    "print('Total Hits in simulation:', NumberofHits)\n",
    "print('Initial photons in simulation:', NumberofPhotons)\n",
    "print('Total energy deposited in tissue (TeV):', round(EnergyDeposition, 5))\n",
    "print('Dose of radiation received (uSv):', round(RadiationDose, 5))"
   ]
  },
  {
   "cell_type": "markdown",
   "metadata": {},
   "source": [
    "### 1.3. CT Summary"
   ]
  },
  {
   "cell_type": "code",
   "execution_count": null,
   "metadata": {},
   "outputs": [],
   "source": [
    "import Radiography_Library as RadLib\n",
    "\n",
    "directory = '/Users/miguelcomett/geant4-v11.2.2_2/ESTANCIA/CT/'\n",
    "\n",
    "tree = 'Run Summary'\n",
    "branches = ['Number_of_Photons', 'EDep_Value_TeV', 'Radiation_Dose_uSv']\n",
    "\n",
    "NumberofPhotons, EnergyDeposition, RadiationDose = RadLib.CT_Summary_Data(directory, tree, branches)\n",
    "\n",
    "print('Initial photons in simulation:', NumberofPhotons)\n",
    "print('Total energy deposited in tissue (TeV):', round(EnergyDeposition, 5))\n",
    "print('Dose of radiation received (uSv):', round(RadiationDose, 5))"
   ]
  },
  {
   "cell_type": "markdown",
   "metadata": {},
   "source": [
    "## 2. Root File to Heatmap"
   ]
  },
  {
   "cell_type": "code",
   "execution_count": null,
   "metadata": {},
   "outputs": [],
   "source": [
    "import Radiography_Library as RadLib\n",
    "\n",
    "# directory = '/Volumes/GIECC/Geant4/'\n",
    "directory = 'BUILD/ROOT/' + '40/'\n",
    "directory = '/Users/miguelcomett/geant4-v11.2.2_2/ESTANCIA/' + 'CT/'\n",
    "\n",
    "root_name = \"thorax_40_2285\" + \".root\"\n",
    "root_name = 'Aang_32' + '.root'\n",
    "\n",
    "tree_name = \"Hits\"; x_branch  = \"x_ax\"; y_branch  = \"y_ax\"\n",
    "\n",
    "size = [240, 240, 0, -20] # size_x, size_y, x_shift, y_shift, \n",
    "\n",
    "pixel_size = 4.5 # mm\n",
    "\n",
    "save_as = ''\n",
    "\n",
    "htmp_array, xlim, ylim = RadLib.Root_to_Heatmap(directory, root_name, tree_name, x_branch, y_branch, size, pixel_size, save_as)"
   ]
  },
  {
   "cell_type": "markdown",
   "metadata": {},
   "source": [
    "#### Show Interactive Plot"
   ]
  },
  {
   "cell_type": "code",
   "execution_count": null,
   "metadata": {},
   "outputs": [],
   "source": [
    "import plotly.graph_objects as go; import plotly.io as pio\n",
    "\n",
    "fig = go.Figure(go.Heatmap(z = htmp_array, x = xlim, y = ylim, colorscale = [[0, 'black'], [1, 'white']], showscale = False))\n",
    "fig.update_layout(width = 800, height = 800, yaxis = dict(autorange = 'reversed'))    \n",
    "fig.show()"
   ]
  },
  {
   "cell_type": "markdown",
   "metadata": {},
   "source": [
    "## 3. DEXA: Tissue Segmentation"
   ]
  },
  {
   "cell_type": "markdown",
   "metadata": {},
   "source": [
    "### Calculate Heatmaps"
   ]
  },
  {
   "cell_type": "code",
   "execution_count": null,
   "metadata": {},
   "outputs": [],
   "source": [
    "import Radiography_Library as RadLib; import matplotlib.pyplot as plt\n",
    "\n",
    "directory = 'BUILD/ROOT/'\n",
    "directory = '/Users/miguelcomett/geant4-v11.2.2_2/ESTANCIA/'\n",
    "\n",
    "rootnames = [\"CT_10.root\", \"CT_11.root\"]\n",
    "rootnames = [\"thorax_40_2285.root\", \"thorax_80_2285.root\"]\n",
    "\n",
    "tree_name = \"Hits\"; x_branch  = \"x_ax\"; y_branch  = \"y_ax\"\n",
    "\n",
    "size = [250, 250, 0, -20]\n",
    "\n",
    "pixel_size = 0.5\n",
    "\n",
    "save_as = ''\n",
    "\n",
    "low_energy_img, xlim, ylim  = RadLib.Root_to_Heatmap(directory, rootnames[0], tree_name, x_branch, y_branch, size, pixel_size, save_as); plt.close()\n",
    "high_energy_img, xlim, ylim = RadLib.Root_to_Heatmap(directory, rootnames[1], tree_name, x_branch, y_branch, size, pixel_size, save_as); plt.close()"
   ]
  },
  {
   "cell_type": "markdown",
   "metadata": {},
   "source": [
    "### Perform Segmentation"
   ]
  },
  {
   "cell_type": "code",
   "execution_count": null,
   "metadata": {},
   "outputs": [],
   "source": [
    "sg = 0; sigma1 = sg; sigma2 = sg\n",
    "wn = 1.2\n",
    "\n",
    "save_in = ''\n",
    "save_as_1 = 'low'; save_as_2 = 'high'\n",
    "save_as_3 = ''; save_as_4 = ''\n",
    "save_as_5 = ''; save_as_6 = ''\n",
    "save_as_7 = ''; save_as_8 = ''\n",
    "\n",
    "SLS_Bone, SLS_Tissue, SSH_Bone, SSH_Tissue, ACNR_Bone, ACNR_Tissue = RadLib.IsolateTissues(\n",
    "    low_energy_img, high_energy_img, sigma1, sigma2, wn, \n",
    "    save_in, save_as_1, save_as_2, save_as_3, save_as_4, save_as_5, save_as_6, save_as_7, save_as_8)"
   ]
  },
  {
   "cell_type": "markdown",
   "metadata": {},
   "source": [
    "## 4. Bone Mineral Density (BMD)"
   ]
  },
  {
   "cell_type": "code",
   "execution_count": null,
   "metadata": {},
   "outputs": [],
   "source": [
    "import Radiography_Library as RadLib\n",
    "\n",
    "save_as = ''\n",
    "thickness_bone = RadLib.BMO(SLS_Bone, SLS_Tissue, save_as)"
   ]
  },
  {
   "cell_type": "markdown",
   "metadata": {},
   "source": [
    "#### Plot Interactive Heatmap"
   ]
  },
  {
   "cell_type": "code",
   "execution_count": null,
   "metadata": {},
   "outputs": [],
   "source": [
    "import plotly.graph_objects as go; import plotly.io as pio\n",
    "\n",
    "fig = go.Figure(go.Heatmap(z = thickness_bone, x = xlim, y = ylim))\n",
    "fig.update_layout(width = 400, height = 400, xaxis = dict(autorange = 'reversed'), yaxis = dict(autorange = 'reversed'))    \n",
    "fig.show()"
   ]
  },
  {
   "cell_type": "markdown",
   "metadata": {},
   "source": [
    "## 5.1. Calculate Interactive CNR"
   ]
  },
  {
   "cell_type": "markdown",
   "metadata": {},
   "source": [
    "#### Trim Image"
   ]
  },
  {
   "cell_type": "code",
   "execution_count": null,
   "metadata": {},
   "outputs": [],
   "source": [
    "from PIL import Image; import matplotlib.pyplot as plt\n",
    "\n",
    "directory = 'RESULTS/'\n",
    "image = 'ssh' + '.png'\n",
    "image = Image.open(directory + image)\n",
    "image = image.convert('L')\n",
    "\n",
    "print(image.size)\n",
    "width = image.width; height = image.height\n",
    "\n",
    "trim = 200\n",
    "# image = image.crop((trim, trim, width - trim, height - trim)) # left, top, right, bottom\n",
    "# image = image.crop((8410, trim, width - 60, height - trim))\n",
    "\n",
    "# plt.imshow(image, cmap='gray'); plt.axis('off'); plt.show()"
   ]
  },
  {
   "cell_type": "markdown",
   "metadata": {},
   "source": [
    "#### Launch Interactive CNR"
   ]
  },
  {
   "cell_type": "code",
   "execution_count": null,
   "metadata": {},
   "outputs": [],
   "source": [
    "%matplotlib widget \n",
    "%matplotlib tk\n",
    "import Radiography_Library as RadLib\n",
    "\n",
    "RadLib.Interactive_CNR(image)"
   ]
  },
  {
   "cell_type": "markdown",
   "metadata": {},
   "source": [
    "## 5.2. Calculate Fixed CNR "
   ]
  },
  {
   "cell_type": "code",
   "execution_count": null,
   "metadata": {},
   "outputs": [],
   "source": [
    "import Radiography_Library as RadLib\n",
    "\n",
    "image_path = \"RESULTS/\" + \"a\" + \".png\"\n",
    "save_as = ''\n",
    "\n",
    "shftx_s = 0.0 # shift x-coordinate signal box\n",
    "shfty_s = 0.0 \n",
    "shftx_b = 200.0 # shift x-coordinate background box\n",
    "shfty_b = 0.0\n",
    "\n",
    "coords_signal  = [1200 + shftx_s, 1000 + shfty_s, 1800 + shftx_s, 1800 + shfty_s] # x1, y1, x2, y2\n",
    "coords_bckgrnd = [2100 + shftx_b, 1000 + shfty_b, 2300 + shftx_b, 1800 + shfty_b] # x1, y1, x2, y2\n",
    "\n",
    "RadLib.Fixed_CNR(image_path, save_as, coords_signal, coords_bckgrnd)"
   ]
  },
  {
   "cell_type": "markdown",
   "metadata": {},
   "source": [
    "## 6.1. Denoise with Skimage.Denoise_Bilateral"
   ]
  },
  {
   "cell_type": "code",
   "execution_count": null,
   "metadata": {},
   "outputs": [],
   "source": [
    "import Radiography_Library as RadLib\n",
    "\n",
    "# load array\n",
    "path = SSH_Bone\n",
    "isArray = True\n",
    "\n",
    "# or load image\n",
    "if isArray == False:\n",
    "    directory = 'RESULTS/'\n",
    "    path = directory + 'a' + '.png'\n",
    "\n",
    "sigma_color = 0.05\n",
    "sigma_spatial = 20\n",
    "\n",
    "Denoised_Image = RadLib.Denoise_EdgeDetection(path, isArray)"
   ]
  },
  {
   "cell_type": "markdown",
   "metadata": {},
   "source": [
    "## 6.2. Denoise by Fourier Transform"
   ]
  },
  {
   "cell_type": "code",
   "execution_count": null,
   "metadata": {},
   "outputs": [],
   "source": [
    "import Radiography_Library as RadLib\n",
    "\n",
    "array = htmp_array\n",
    "isHann = False\n",
    "\n",
    "alpha = 1\n",
    "\n",
    "save_as = ''\n",
    "isCrossSection = False # plot crosss-section\n",
    "\n",
    "fft_image = RadLib.Denoise(array, isHann, alpha, save_as, isCrossSection)"
   ]
  },
  {
   "cell_type": "markdown",
   "metadata": {},
   "source": [
    "## 7. Save Plotly Heatmap"
   ]
  },
  {
   "cell_type": "code",
   "execution_count": null,
   "metadata": {},
   "outputs": [],
   "source": [
    "import Radiography_Library as RadLib\n",
    "\n",
    "# array = htmp_array\n",
    "# array = Denoised_Image\n",
    "array = ACNR_Bone\n",
    "array = low_energy_img\n",
    "\n",
    "title   = r\"$ \\large{ \\text{Thorax Radiography Projection(40 keV)} } $\"\n",
    "x_label = r\"$ \\large{ \\text{X Axis} \\ (mm)} $\"\n",
    "y_label = r\"$ \\large{ \\text{Y Axis} \\ (mm)} $\"\n",
    "\n",
    "width  = 800\n",
    "height = 800\n",
    "\n",
    "save_as = ''\n",
    "\n",
    "RadLib.Plotly_Heatmap_1(array, xlim, ylim, title, x_label, y_label, width, height, save_as)"
   ]
  },
  {
   "cell_type": "markdown",
   "metadata": {},
   "source": [
    "### Plot with annotation and rectanngles"
   ]
  },
  {
   "cell_type": "code",
   "execution_count": null,
   "metadata": {},
   "outputs": [],
   "source": [
    "import Radiography_Library as RadLib\n",
    "\n",
    "array = htmp_array\n",
    "\n",
    "title   = r\"$ \\large{ \\text{Low energy projection (40 keV), 100M Photons} } $\"\n",
    "title   = r\"$ \\large{ \\text{ACNR projection (40, 80 keV), 100M Photons} } $\"\n",
    "x_label = r\"$ \\large{ \\text{X Axis} \\ (mm)} $\"\n",
    "y_label = r\"$ \\large{ \\text{Y Axis} \\ (mm)} $\"\n",
    "y_label = ''\n",
    "\n",
    "sqr_1_coords = [10, 10, -10, -10]\n",
    "sqr_2_coords = [10, 10, -10, -10]\n",
    "\n",
    "annotation = 'CNR = ' \n",
    "\n",
    "width  = 700\n",
    "height = 700\n",
    "\n",
    "save_as = ''\n",
    "\n",
    "Radlib.Plotly_Heatmap_2(array, xlim, ylim, title, x_label, y_label, sqr_1_coords, sqr_2_coords, annotation, width, height, save_as)"
   ]
  },
  {
   "cell_type": "markdown",
   "metadata": {},
   "source": [
    "# 8. CT Scan"
   ]
  },
  {
   "cell_type": "markdown",
   "metadata": {},
   "source": [
    "## 8.1 Run CT loop"
   ]
  },
  {
   "cell_type": "code",
   "execution_count": 1,
   "metadata": {},
   "outputs": [
    {
     "data": {
      "application/vnd.jupyter.widget-view+json": {
       "model_id": "ab239ca446a24bfe895cd350e0b30e27",
       "version_major": 2,
       "version_minor": 0
      },
      "text/plain": [
       "Creating CT:   0%|          | 0/76 [00:00<?, ?Angles/s]"
      ]
     },
     "metadata": {},
     "output_type": "display_data"
    },
    {
     "name": "stderr",
     "output_type": "stream",
     "text": [
      "Error in <TFile::Init>: file /var/folders/hb/c3_8qsx151x5p9cmm7d42ctw0000gn/T//ROOTMERGE-c270ddc2-b080-11ef-880d-d401a8c0beef.root has an incorrect header length (372) or incorrect end of file length (370)\n",
      "Error in <TFileMerger::AddFile>: cannot open local copy file:/var/folders/hb/c3_8qsx151x5p9cmm7d42ctw0000gn/T//ROOTMERGE-c270ddc2-b080-11ef-880d-d401a8c0beef.root of URL /Users/miguelcomett/geant4-v11.2.2_2/ESTANCIA/IFI.03.Radiography/MedX_Engine/BUILD/ROOT_temp/CT_13_t1.root\n",
      "Error in <TFile::Init>: file /var/folders/hb/c3_8qsx151x5p9cmm7d42ctw0000gn/T//ROOTMERGE-c29de07e-b080-11ef-880d-d401a8c0beef.root has an incorrect header length (372) or incorrect end of file length (370)\n",
      "Error in <TFileMerger::AddFile>: cannot open local copy file:/var/folders/hb/c3_8qsx151x5p9cmm7d42ctw0000gn/T//ROOTMERGE-c29de07e-b080-11ef-880d-d401a8c0beef.root of URL /Users/miguelcomett/geant4-v11.2.2_2/ESTANCIA/IFI.03.Radiography/MedX_Engine/BUILD/ROOT_temp/CT_13_t0.root\n",
      "Error in <TFile::Init>: file /var/folders/hb/c3_8qsx151x5p9cmm7d42ctw0000gn/T//ROOTMERGE-c29e2a20-b080-11ef-880d-d401a8c0beef.root has an incorrect header length (372) or incorrect end of file length (370)\n",
      "Error in <TFileMerger::AddFile>: cannot open local copy file:/var/folders/hb/c3_8qsx151x5p9cmm7d42ctw0000gn/T//ROOTMERGE-c29e2a20-b080-11ef-880d-d401a8c0beef.root of URL /Users/miguelcomett/geant4-v11.2.2_2/ESTANCIA/IFI.03.Radiography/MedX_Engine/BUILD/ROOT_temp/CT_13_t7.root\n",
      "Error in <TFile::Init>: file /var/folders/hb/c3_8qsx151x5p9cmm7d42ctw0000gn/T//ROOTMERGE-c29e55a4-b080-11ef-880d-d401a8c0beef.root has an incorrect header length (372) or incorrect end of file length (370)\n",
      "Error in <TFileMerger::AddFile>: cannot open local copy file:/var/folders/hb/c3_8qsx151x5p9cmm7d42ctw0000gn/T//ROOTMERGE-c29e55a4-b080-11ef-880d-d401a8c0beef.root of URL /Users/miguelcomett/geant4-v11.2.2_2/ESTANCIA/IFI.03.Radiography/MedX_Engine/BUILD/ROOT_temp/CT_13_t6.root\n",
      "Error in <TFile::Init>: file /var/folders/hb/c3_8qsx151x5p9cmm7d42ctw0000gn/T//ROOTMERGE-c29eba4e-b080-11ef-880d-d401a8c0beef.root has an incorrect header length (372) or incorrect end of file length (370)\n",
      "Error in <TFileMerger::AddFile>: cannot open local copy file:/var/folders/hb/c3_8qsx151x5p9cmm7d42ctw0000gn/T//ROOTMERGE-c29eba4e-b080-11ef-880d-d401a8c0beef.root of URL /Users/miguelcomett/geant4-v11.2.2_2/ESTANCIA/IFI.03.Radiography/MedX_Engine/BUILD/ROOT_temp/CT_13_t9.root\n",
      "Error in <TFile::Init>: file /var/folders/hb/c3_8qsx151x5p9cmm7d42ctw0000gn/T//ROOTMERGE-c29ef770-b080-11ef-880d-d401a8c0beef.root has an incorrect header length (372) or incorrect end of file length (370)\n",
      "Error in <TFileMerger::AddFile>: cannot open local copy file:/var/folders/hb/c3_8qsx151x5p9cmm7d42ctw0000gn/T//ROOTMERGE-c29ef770-b080-11ef-880d-d401a8c0beef.root of URL /Users/miguelcomett/geant4-v11.2.2_2/ESTANCIA/IFI.03.Radiography/MedX_Engine/BUILD/ROOT_temp/CT_13_t5.root\n",
      "Error in <TFile::Init>: file /var/folders/hb/c3_8qsx151x5p9cmm7d42ctw0000gn/T//ROOTMERGE-c29f4dce-b080-11ef-880d-d401a8c0beef.root has an incorrect header length (372) or incorrect end of file length (370)\n",
      "Error in <TFileMerger::AddFile>: cannot open local copy file:/var/folders/hb/c3_8qsx151x5p9cmm7d42ctw0000gn/T//ROOTMERGE-c29f4dce-b080-11ef-880d-d401a8c0beef.root of URL /Users/miguelcomett/geant4-v11.2.2_2/ESTANCIA/IFI.03.Radiography/MedX_Engine/BUILD/ROOT_temp/CT_13_t4.root\n",
      "Error in <TFile::Init>: file /var/folders/hb/c3_8qsx151x5p9cmm7d42ctw0000gn/T//ROOTMERGE-c29f6dc2-b080-11ef-880d-d401a8c0beef.root has an incorrect header length (366) or incorrect end of file length (364)\n",
      "Error in <TFileMerger::AddFile>: cannot open local copy file:/var/folders/hb/c3_8qsx151x5p9cmm7d42ctw0000gn/T//ROOTMERGE-c29f6dc2-b080-11ef-880d-d401a8c0beef.root of URL /Users/miguelcomett/geant4-v11.2.2_2/ESTANCIA/IFI.03.Radiography/MedX_Engine/BUILD/ROOT_temp/CT_13.root\n",
      "Error in <TFile::Init>: file /var/folders/hb/c3_8qsx151x5p9cmm7d42ctw0000gn/T//ROOTMERGE-c29faf76-b080-11ef-880d-d401a8c0beef.root has an incorrect header length (372) or incorrect end of file length (370)\n",
      "Error in <TFileMerger::AddFile>: cannot open local copy file:/var/folders/hb/c3_8qsx151x5p9cmm7d42ctw0000gn/T//ROOTMERGE-c29faf76-b080-11ef-880d-d401a8c0beef.root of URL /Users/miguelcomett/geant4-v11.2.2_2/ESTANCIA/IFI.03.Radiography/MedX_Engine/BUILD/ROOT_temp/CT_13_t8.root\n",
      "Error in <TFile::Init>: file /var/folders/hb/c3_8qsx151x5p9cmm7d42ctw0000gn/T//ROOTMERGE-c29fcba0-b080-11ef-880d-d401a8c0beef.root has an incorrect header length (372) or incorrect end of file length (370)\n",
      "Error in <TFileMerger::AddFile>: cannot open local copy file:/var/folders/hb/c3_8qsx151x5p9cmm7d42ctw0000gn/T//ROOTMERGE-c29fcba0-b080-11ef-880d-d401a8c0beef.root of URL /Users/miguelcomett/geant4-v11.2.2_2/ESTANCIA/IFI.03.Radiography/MedX_Engine/BUILD/ROOT_temp/CT_13_t3.root\n",
      "Error in <TFile::Init>: file /var/folders/hb/c3_8qsx151x5p9cmm7d42ctw0000gn/T//ROOTMERGE-c2a023b6-b080-11ef-880d-d401a8c0beef.root has an incorrect header length (372) or incorrect end of file length (370)\n",
      "Error in <TFileMerger::AddFile>: cannot open local copy file:/var/folders/hb/c3_8qsx151x5p9cmm7d42ctw0000gn/T//ROOTMERGE-c2a023b6-b080-11ef-880d-d401a8c0beef.root of URL /Users/miguelcomett/geant4-v11.2.2_2/ESTANCIA/IFI.03.Radiography/MedX_Engine/BUILD/ROOT_temp/CT_13_t2.root\n"
     ]
    },
    {
     "ename": "KeyboardInterrupt",
     "evalue": "",
     "output_type": "error",
     "traceback": [
      "\u001b[0;31m---------------------------------------------------------------------------\u001b[0m",
      "\u001b[0;31mKeyboardInterrupt\u001b[0m                         Traceback (most recent call last)",
      "Cell \u001b[0;32mIn[1], line 8\u001b[0m\n\u001b[1;32m      4\u001b[0m starts_with \u001b[38;5;241m=\u001b[39m \u001b[38;5;124m'\u001b[39m\u001b[38;5;124mCT\u001b[39m\u001b[38;5;124m'\u001b[39m\n\u001b[1;32m      6\u001b[0m angles \u001b[38;5;241m=\u001b[39m [\u001b[38;5;241m104\u001b[39m, \u001b[38;5;241m180\u001b[39m]\n\u001b[0;32m----> 8\u001b[0m \u001b[43mRadLib\u001b[49m\u001b[38;5;241;43m.\u001b[39;49m\u001b[43mCT_Loop\u001b[49m\u001b[43m(\u001b[49m\u001b[43mdirectory\u001b[49m\u001b[43m,\u001b[49m\u001b[43m \u001b[49m\u001b[43mstarts_with\u001b[49m\u001b[43m,\u001b[49m\u001b[43m \u001b[49m\u001b[43mangles\u001b[49m\u001b[43m)\u001b[49m\n",
      "File \u001b[0;32m~/geant4-v11.2.2_2/ESTANCIA/IFI.03.Radiography/MedX_Engine/Radiography_Library.py:685\u001b[0m, in \u001b[0;36mCT_Loop\u001b[0;34m(directory, starts_with, angles)\u001b[0m\n\u001b[1;32m    682\u001b[0m filled_template \u001b[38;5;241m=\u001b[39m mac_template\u001b[38;5;241m.\u001b[39mformat(angle \u001b[38;5;241m=\u001b[39m angle, beam_lines \u001b[38;5;241m=\u001b[39m beam_lines)\n\u001b[1;32m    683\u001b[0m \u001b[38;5;28;01mwith\u001b[39;00m \u001b[38;5;28mopen\u001b[39m(mac_filepath, \u001b[38;5;124m'\u001b[39m\u001b[38;5;124mw\u001b[39m\u001b[38;5;124m'\u001b[39m) \u001b[38;5;28;01mas\u001b[39;00m f: f\u001b[38;5;241m.\u001b[39mwrite(filled_template)\n\u001b[0;32m--> 685\u001b[0m \u001b[38;5;28;01mtry\u001b[39;00m: \u001b[43msubprocess\u001b[49m\u001b[38;5;241;43m.\u001b[39;49m\u001b[43mrun\u001b[49m\u001b[43m(\u001b[49m\u001b[43mrun_sim\u001b[49m\u001b[43m,\u001b[49m\u001b[43m \u001b[49m\u001b[43mcwd\u001b[49m\u001b[43m \u001b[49m\u001b[38;5;241;43m=\u001b[39;49m\u001b[43m \u001b[49m\u001b[43mdirectory\u001b[49m\u001b[43m,\u001b[49m\u001b[43m \u001b[49m\u001b[43mcheck\u001b[49m\u001b[43m \u001b[49m\u001b[38;5;241;43m=\u001b[39;49m\u001b[43m \u001b[49m\u001b[38;5;28;43;01mTrue\u001b[39;49;00m\u001b[43m,\u001b[49m\u001b[43m \u001b[49m\u001b[43mshell\u001b[49m\u001b[43m \u001b[49m\u001b[38;5;241;43m=\u001b[39;49m\u001b[43m \u001b[49m\u001b[38;5;28;43;01mTrue\u001b[39;49;00m\u001b[43m,\u001b[49m\u001b[43m \u001b[49m\u001b[43mstdout\u001b[49m\u001b[43m \u001b[49m\u001b[38;5;241;43m=\u001b[39;49m\u001b[43m \u001b[49m\u001b[43msubprocess\u001b[49m\u001b[38;5;241;43m.\u001b[39;49m\u001b[43mDEVNULL\u001b[49m\u001b[43m)\u001b[49m\n\u001b[1;32m    686\u001b[0m \u001b[38;5;28;01mexcept\u001b[39;00m subprocess\u001b[38;5;241m.\u001b[39mCalledProcessError \u001b[38;5;28;01mas\u001b[39;00m e: \u001b[38;5;28mprint\u001b[39m(\u001b[38;5;124mf\u001b[39m\u001b[38;5;124m\"\u001b[39m\u001b[38;5;124mError al ejecutar la simulación: \u001b[39m\u001b[38;5;132;01m{\u001b[39;00me\u001b[38;5;132;01m}\u001b[39;00m\u001b[38;5;124m\"\u001b[39m)\n\u001b[1;32m    688\u001b[0m output_name \u001b[38;5;241m=\u001b[39m \u001b[38;5;124mf\u001b[39m\u001b[38;5;124m'\u001b[39m\u001b[38;5;124mAang_\u001b[39m\u001b[38;5;132;01m{\u001b[39;00mangle\u001b[38;5;132;01m}\u001b[39;00m\u001b[38;5;124m'\u001b[39m\n",
      "File \u001b[0;32m/opt/miniconda3/envs/MyEnvMCF/lib/python3.11/subprocess.py:550\u001b[0m, in \u001b[0;36mrun\u001b[0;34m(input, capture_output, timeout, check, *popenargs, **kwargs)\u001b[0m\n\u001b[1;32m    548\u001b[0m \u001b[38;5;28;01mwith\u001b[39;00m Popen(\u001b[38;5;241m*\u001b[39mpopenargs, \u001b[38;5;241m*\u001b[39m\u001b[38;5;241m*\u001b[39mkwargs) \u001b[38;5;28;01mas\u001b[39;00m process:\n\u001b[1;32m    549\u001b[0m     \u001b[38;5;28;01mtry\u001b[39;00m:\n\u001b[0;32m--> 550\u001b[0m         stdout, stderr \u001b[38;5;241m=\u001b[39m \u001b[43mprocess\u001b[49m\u001b[38;5;241;43m.\u001b[39;49m\u001b[43mcommunicate\u001b[49m\u001b[43m(\u001b[49m\u001b[38;5;28;43minput\u001b[39;49m\u001b[43m,\u001b[49m\u001b[43m \u001b[49m\u001b[43mtimeout\u001b[49m\u001b[38;5;241;43m=\u001b[39;49m\u001b[43mtimeout\u001b[49m\u001b[43m)\u001b[49m\n\u001b[1;32m    551\u001b[0m     \u001b[38;5;28;01mexcept\u001b[39;00m TimeoutExpired \u001b[38;5;28;01mas\u001b[39;00m exc:\n\u001b[1;32m    552\u001b[0m         process\u001b[38;5;241m.\u001b[39mkill()\n",
      "File \u001b[0;32m/opt/miniconda3/envs/MyEnvMCF/lib/python3.11/subprocess.py:1201\u001b[0m, in \u001b[0;36mPopen.communicate\u001b[0;34m(self, input, timeout)\u001b[0m\n\u001b[1;32m   1199\u001b[0m         stderr \u001b[38;5;241m=\u001b[39m \u001b[38;5;28mself\u001b[39m\u001b[38;5;241m.\u001b[39mstderr\u001b[38;5;241m.\u001b[39mread()\n\u001b[1;32m   1200\u001b[0m         \u001b[38;5;28mself\u001b[39m\u001b[38;5;241m.\u001b[39mstderr\u001b[38;5;241m.\u001b[39mclose()\n\u001b[0;32m-> 1201\u001b[0m     \u001b[38;5;28;43mself\u001b[39;49m\u001b[38;5;241;43m.\u001b[39;49m\u001b[43mwait\u001b[49m\u001b[43m(\u001b[49m\u001b[43m)\u001b[49m\n\u001b[1;32m   1202\u001b[0m \u001b[38;5;28;01melse\u001b[39;00m:\n\u001b[1;32m   1203\u001b[0m     \u001b[38;5;28;01mif\u001b[39;00m timeout \u001b[38;5;129;01mis\u001b[39;00m \u001b[38;5;129;01mnot\u001b[39;00m \u001b[38;5;28;01mNone\u001b[39;00m:\n",
      "File \u001b[0;32m/opt/miniconda3/envs/MyEnvMCF/lib/python3.11/subprocess.py:1264\u001b[0m, in \u001b[0;36mPopen.wait\u001b[0;34m(self, timeout)\u001b[0m\n\u001b[1;32m   1262\u001b[0m     endtime \u001b[38;5;241m=\u001b[39m _time() \u001b[38;5;241m+\u001b[39m timeout\n\u001b[1;32m   1263\u001b[0m \u001b[38;5;28;01mtry\u001b[39;00m:\n\u001b[0;32m-> 1264\u001b[0m     \u001b[38;5;28;01mreturn\u001b[39;00m \u001b[38;5;28;43mself\u001b[39;49m\u001b[38;5;241;43m.\u001b[39;49m\u001b[43m_wait\u001b[49m\u001b[43m(\u001b[49m\u001b[43mtimeout\u001b[49m\u001b[38;5;241;43m=\u001b[39;49m\u001b[43mtimeout\u001b[49m\u001b[43m)\u001b[49m\n\u001b[1;32m   1265\u001b[0m \u001b[38;5;28;01mexcept\u001b[39;00m \u001b[38;5;167;01mKeyboardInterrupt\u001b[39;00m:\n\u001b[1;32m   1266\u001b[0m     \u001b[38;5;66;03m# https://bugs.python.org/issue25942\u001b[39;00m\n\u001b[1;32m   1267\u001b[0m     \u001b[38;5;66;03m# The first keyboard interrupt waits briefly for the child to\u001b[39;00m\n\u001b[1;32m   1268\u001b[0m     \u001b[38;5;66;03m# exit under the common assumption that it also received the ^C\u001b[39;00m\n\u001b[1;32m   1269\u001b[0m     \u001b[38;5;66;03m# generated SIGINT and will exit rapidly.\u001b[39;00m\n\u001b[1;32m   1270\u001b[0m     \u001b[38;5;28;01mif\u001b[39;00m timeout \u001b[38;5;129;01mis\u001b[39;00m \u001b[38;5;129;01mnot\u001b[39;00m \u001b[38;5;28;01mNone\u001b[39;00m:\n",
      "File \u001b[0;32m/opt/miniconda3/envs/MyEnvMCF/lib/python3.11/subprocess.py:2051\u001b[0m, in \u001b[0;36mPopen._wait\u001b[0;34m(self, timeout)\u001b[0m\n\u001b[1;32m   2049\u001b[0m \u001b[38;5;28;01mif\u001b[39;00m \u001b[38;5;28mself\u001b[39m\u001b[38;5;241m.\u001b[39mreturncode \u001b[38;5;129;01mis\u001b[39;00m \u001b[38;5;129;01mnot\u001b[39;00m \u001b[38;5;28;01mNone\u001b[39;00m:\n\u001b[1;32m   2050\u001b[0m     \u001b[38;5;28;01mbreak\u001b[39;00m  \u001b[38;5;66;03m# Another thread waited.\u001b[39;00m\n\u001b[0;32m-> 2051\u001b[0m (pid, sts) \u001b[38;5;241m=\u001b[39m \u001b[38;5;28;43mself\u001b[39;49m\u001b[38;5;241;43m.\u001b[39;49m\u001b[43m_try_wait\u001b[49m\u001b[43m(\u001b[49m\u001b[38;5;241;43m0\u001b[39;49m\u001b[43m)\u001b[49m\n\u001b[1;32m   2052\u001b[0m \u001b[38;5;66;03m# Check the pid and loop as waitpid has been known to\u001b[39;00m\n\u001b[1;32m   2053\u001b[0m \u001b[38;5;66;03m# return 0 even without WNOHANG in odd situations.\u001b[39;00m\n\u001b[1;32m   2054\u001b[0m \u001b[38;5;66;03m# http://bugs.python.org/issue14396.\u001b[39;00m\n\u001b[1;32m   2055\u001b[0m \u001b[38;5;28;01mif\u001b[39;00m pid \u001b[38;5;241m==\u001b[39m \u001b[38;5;28mself\u001b[39m\u001b[38;5;241m.\u001b[39mpid:\n",
      "File \u001b[0;32m/opt/miniconda3/envs/MyEnvMCF/lib/python3.11/subprocess.py:2009\u001b[0m, in \u001b[0;36mPopen._try_wait\u001b[0;34m(self, wait_flags)\u001b[0m\n\u001b[1;32m   2007\u001b[0m \u001b[38;5;250m\u001b[39m\u001b[38;5;124;03m\"\"\"All callers to this function MUST hold self._waitpid_lock.\"\"\"\u001b[39;00m\n\u001b[1;32m   2008\u001b[0m \u001b[38;5;28;01mtry\u001b[39;00m:\n\u001b[0;32m-> 2009\u001b[0m     (pid, sts) \u001b[38;5;241m=\u001b[39m os\u001b[38;5;241m.\u001b[39mwaitpid(\u001b[38;5;28mself\u001b[39m\u001b[38;5;241m.\u001b[39mpid, wait_flags)\n\u001b[1;32m   2010\u001b[0m \u001b[38;5;28;01mexcept\u001b[39;00m \u001b[38;5;167;01mChildProcessError\u001b[39;00m:\n\u001b[1;32m   2011\u001b[0m     \u001b[38;5;66;03m# This happens if SIGCLD is set to be ignored or waiting\u001b[39;00m\n\u001b[1;32m   2012\u001b[0m     \u001b[38;5;66;03m# for child processes has otherwise been disabled for our\u001b[39;00m\n\u001b[1;32m   2013\u001b[0m     \u001b[38;5;66;03m# process.  This child is dead, we can't get the status.\u001b[39;00m\n\u001b[1;32m   2014\u001b[0m     pid \u001b[38;5;241m=\u001b[39m \u001b[38;5;28mself\u001b[39m\u001b[38;5;241m.\u001b[39mpid\n",
      "\u001b[0;31mKeyboardInterrupt\u001b[0m: "
     ]
    }
   ],
   "source": [
    "import Radiography_Library as RadLib\n",
    "\n",
    "directory = 'BUILD/'\n",
    "starts_with = 'CT'\n",
    "\n",
    "angles = [104, 180]\n",
    "\n",
    "RadLib.CT_Loop(directory, starts_with, angles)"
   ]
  },
  {
   "cell_type": "markdown",
   "metadata": {},
   "source": [
    "## 8.2 Calculate projections at every angle from roots and save to CSV"
   ]
  },
  {
   "cell_type": "code",
   "execution_count": null,
   "metadata": {},
   "outputs": [],
   "source": [
    "import Radiography_Library as RadLib; import matplotlib.pyplot as plt\n",
    "\n",
    "directory = '/Users/miguelcomett/geant4-v11.2.2_2/ESTANCIA/CT/'\n",
    "filename = 'Aang'\n",
    "\n",
    "roots = [1, 2, 1] # start, end, degree step\n",
    "\n",
    "tree_name = \"Hits\"\n",
    "x_branch  = \"x_ax\"\n",
    "y_branch  = \"y_ax\"\n",
    "\n",
    "dimensions = [250, 250, 0, -20] # sizeX, sizeY, shiftX, shiftY, # in mm\n",
    "\n",
    "pixel_size = 0.5 # in mm\n",
    "\n",
    "csv_folder = \"/Users/miguelcomett/geant4-v11.2.2_2/ESTANCIA/CT\"\n",
    "\n",
    "htmp, xlim, ylim = RadLib.Calculate_Projections(directory, filename, roots, tree_name, x_branch, y_branch, dimensions, pixel_size, csv_folder)\n",
    "\n",
    "plt.figure(figsize = (10, 4));  plt.subplot(1, 2, 1); plt.imshow(htmp, cmap = 'gray');  plt.subplot(1, 2, 2); plt.plot(htmp[htmp.shape[0]//2,:]); plt.show()"
   ]
  },
  {
   "cell_type": "markdown",
   "metadata": {},
   "source": [
    "## 8.3 Load projections from CSV and perfrom CT reconstruction"
   ]
  },
  {
   "cell_type": "code",
   "execution_count": null,
   "metadata": {},
   "outputs": [],
   "source": [
    "import Radiography_Library as RadLib\n",
    "\n",
    "roots = [0, 360, 1] # start, end, degree step\n",
    "csv_folder = 'E:\\CT_Torax\\CSV_raw'\n",
    "radiographs = RadLib.LoadHeatmapsFromCSV(csv_folder, roots)\n",
    "\n",
    "pixel_size = 0.5\n",
    "sigma = 1 # for applying gaussian filter to radiograph\n",
    "htmps = RadLib.LogaritmicTransformation(radiographs, pixel_size, 2)\n",
    "\n",
    "initial = -280 # initial layer y position\n",
    "final = 250 # final layer y position\n",
    "spacing = 2 # spacing (mm) between layers\n",
    "slices = (initial, final, spacing)\n",
    "reconstruction = RadLib.RadonReconstruction(roots, htmps, slices)\n",
    "\n",
    "mu_water = 0.26748 # 40kev\n",
    "mu_water = 0.18443 # 80kev\n",
    "air_tolerance = -800\n",
    "HU_images = RadLib.CoefficientstoHU(reconstruction, slices, mu_water, air_tolerance)"
   ]
  },
  {
   "cell_type": "markdown",
   "metadata": {},
   "source": [
    "## 8.4 Export to DICOM"
   ]
  },
  {
   "cell_type": "code",
   "execution_count": null,
   "metadata": {},
   "outputs": [],
   "source": [
    "directory = 'E:\\CT_Torax\\DICOM2'\n",
    "dimensions = [250, 75, 0, 150]\n",
    "size_y = dimensions[1]\n",
    "compressed = False\n",
    "RadLib.export_to_dicom(HU_images, size_y, directory, compressed)"
   ]
  }
 ],
 "metadata": {
  "kernelspec": {
   "display_name": "MyEnvMCF",
   "language": "python",
   "name": "python3"
  },
  "language_info": {
   "codemirror_mode": {
    "name": "ipython",
    "version": 3
   },
   "file_extension": ".py",
   "mimetype": "text/x-python",
   "name": "python",
   "nbconvert_exporter": "python",
   "pygments_lexer": "ipython3",
   "version": "3.11.8"
  }
 },
 "nbformat": 4,
 "nbformat_minor": 2
}
