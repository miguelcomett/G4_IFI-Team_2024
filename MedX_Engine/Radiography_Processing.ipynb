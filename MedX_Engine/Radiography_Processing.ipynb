{
 "cells": [
  {
   "cell_type": "markdown",
   "metadata": {},
   "source": [
    "## 1 Merge Root Files"
   ]
  },
  {
   "cell_type": "code",
   "execution_count": null,
   "metadata": {},
   "outputs": [],
   "source": [
    "import Radiography_Library as RadLib\n",
    "\n",
    "directory = '/Users/miguelcomett/geant4-v11.2.2_2/ESTANCIA'\n",
    "starts_with = ''\n",
    "output_name = 'new_40_600'\n",
    "\n",
    "RadLib.MergeRoots_Parallel(directory, starts_with, output_name) # Merge con parallel\n",
    "# RadLib.MergeRoots(directory, starts_with, output_name) # Merge Estandar"
   ]
  },
  {
   "cell_type": "markdown",
   "metadata": {},
   "source": [
    "## 2. Root to Dataframe"
   ]
  },
  {
   "cell_type": "code",
   "execution_count": null,
   "metadata": {},
   "outputs": [],
   "source": [
    "import Radiography_Library as RadLib\n",
    "\n",
    "directory = '/Users/miguelcomett/geant4-v11.2.2_2/ESTANCIA/'\n",
    "directory = '/Volumes/MCF Blue/Roots/OsteoPoros/'\n",
    "root_name_starts = \"poros_300_40k_100M\"\n",
    "\n",
    "tree_name = \"Photons\"\n",
    "x_branch  = \"X_axis\"\n",
    "y_branch  = \"Y_axis\"\n",
    "\n",
    "# tree_name = \"Hits\"\n",
    "# x_branch  = \"x_ax\"\n",
    "# y_branch  = \"y_ax\"\n",
    "\n",
    "x_data, y_data = RadLib.Root_to_Dask(directory, root_name_starts, tree_name, x_branch, y_branch)"
   ]
  },
  {
   "cell_type": "markdown",
   "metadata": {},
   "source": [
    "## 3. Dask Dataframe to Heatmap"
   ]
  },
  {
   "cell_type": "code",
   "execution_count": null,
   "metadata": {},
   "outputs": [],
   "source": [
    "import Radiography_Library as RadLib\n",
    "\n",
    "size = 60\n",
    "log_factor = 0.1\n",
    "\n",
    "x_shift = 0\n",
    "y_shift = 0\n",
    "\n",
    "save_as = ''\n",
    "htmp_array, xlim, ylim = RadLib.Heatmap_from_Dask(x_data, y_data, size, log_factor, x_shift, y_shift, save_as)"
   ]
  },
  {
   "cell_type": "markdown",
   "metadata": {},
   "source": [
    "## 4.1. DEXA: Isolate Bone from Tissue"
   ]
  },
  {
   "cell_type": "code",
   "execution_count": null,
   "metadata": {},
   "outputs": [],
   "source": [
    "# LOAD ROOTS\n",
    "\n",
    "import Radiography_Library as RadLib\n",
    "\n",
    "directory = '/Users/miguelcomett/geant4-v11.2.2_2/ESTANCIA/'\n",
    "directory = '/Volumes/MCF Blue/Roots/Semana8/'\n",
    "rootnames = [\"osteo_40kev_20M\", \"osteo_80kev_20M\"]\n",
    "\n",
    "tree_name = \"Photons\"\n",
    "x_branch  = \"X_axis\"\n",
    "y_branch  = \"Y_axis\"\n",
    "\n",
    "# tree_name = \"Hits\"\n",
    "# x_branch  = \"x_ax\"\n",
    "# y_branch  = \"y_ax\"\n",
    "\n",
    "x_1, y_1, x_2, y_2 = RadLib.LoadRoots(directory, rootnames, tree_name, x_branch, y_branch)"
   ]
  },
  {
   "cell_type": "code",
   "execution_count": null,
   "metadata": {},
   "outputs": [],
   "source": [
    "# CALCULATE HEATMAPS\n",
    "\n",
    "import matplotlib.pyplot as plt\n",
    "\n",
    "x_shift = 0\n",
    "y_shift = 0\n",
    "\n",
    "size = 60\n",
    "log_factor = 0.1\n",
    "\n",
    "low_energy_img, xlim, ylim  = RadLib.Heatmap_from_Dask(x_1, y_1, size, log_factor, x_shift, y_shift, '')\n",
    "high_energy_img, xlim, ylim = RadLib.Heatmap_from_Dask(x_2, y_2, size, log_factor, x_shift, y_shift, '')\n",
    "\n",
    "# low_energy_img  = (low_energy_img * 255).astype(np.uint8)\n",
    "# high_energy_img = (high_energy_img * 255).astype(np.uint8)\n",
    "\n",
    "plt.close(); plt.close()"
   ]
  },
  {
   "cell_type": "code",
   "execution_count": null,
   "metadata": {},
   "outputs": [],
   "source": [
    "# PLOT HEATMAPS\n",
    "\n",
    "import Radiography_Library as RadLib\n",
    "\n",
    "sg = 0\n",
    "\n",
    "sigma1 = sg\n",
    "sigma2 = sg\n",
    "wn = 0.0\n",
    "\n",
    "save_in = ''\n",
    "save_as_1 = ''\n",
    "save_as_2 = ''\n",
    "save_as_3 = ''\n",
    "save_as_4 = ''\n",
    "save_as_5 = ''\n",
    "save_as_6 = ''\n",
    "save_as_7 = ''\n",
    "save_as_8 = ''\n",
    "\n",
    "SLS_Bone, SLS_Tissue, SSH_Bone, SSH_Tissue, ACNR_Bone, ACNR_Tissue = RadLib.IsolateTissues(\n",
    "    low_energy_img, high_energy_img, sigma1, sigma2, wn, save_in, save_as_1, save_as_2, save_as_3, save_as_4, save_as_5, save_as_6, save_as_7, save_as_8)"
   ]
  },
  {
   "cell_type": "markdown",
   "metadata": {},
   "source": [
    "## 4.2. Bone Mineral Density (BMD)"
   ]
  },
  {
   "cell_type": "code",
   "execution_count": null,
   "metadata": {},
   "outputs": [],
   "source": [
    "import Radiography_Library as RadLib\n",
    "save_as = 'bmo'\n",
    "thickness_bone = RadLib.BMO(SLS_Bone, SLS_Tissue, save_as)"
   ]
  },
  {
   "cell_type": "markdown",
   "metadata": {},
   "source": [
    "Plot Interactive Heatmap"
   ]
  },
  {
   "cell_type": "code",
   "execution_count": null,
   "metadata": {},
   "outputs": [],
   "source": [
    "import plotly.graph_objects as go; import plotly.io as pio\n",
    "\n",
    "fig = go.Figure(go.Heatmap(z = thickness_bone, x = xlim, y = ylim))\n",
    "fig.update_layout(width = 400, height = 400, xaxis = dict(autorange = 'reversed'), yaxis = dict(autorange = 'reversed'))    \n",
    "fig.show()"
   ]
  },
  {
   "cell_type": "markdown",
   "metadata": {},
   "source": [
    "## 5.1. Calculate Interactive CNR"
   ]
  },
  {
   "cell_type": "markdown",
   "metadata": {},
   "source": [
    "Trim Image"
   ]
  },
  {
   "cell_type": "code",
   "execution_count": null,
   "metadata": {},
   "outputs": [],
   "source": [
    "from PIL import Image; import matplotlib.pyplot as plt\n",
    "\n",
    "directory = 'RESULTS/'\n",
    "image = 'ssh' + '.png'\n",
    "image = Image.open(directory + image)\n",
    "image = image.convert('L')\n",
    "\n",
    "print(image.size)\n",
    "width = image.width; height = image.height\n",
    "\n",
    "trim = 200\n",
    "# image = image.crop((trim, trim, width - trim, height - trim)) # left, top, right, bottom\n",
    "# image = image.crop((8410, trim, width - 60, height - trim))\n",
    "\n",
    "# plt.imshow(image, cmap='gray'); plt.axis('off'); plt.show()"
   ]
  },
  {
   "cell_type": "markdown",
   "metadata": {},
   "source": [
    "Launch Interactive CNR"
   ]
  },
  {
   "cell_type": "code",
   "execution_count": null,
   "metadata": {},
   "outputs": [],
   "source": [
    "%matplotlib widget \n",
    "%matplotlib tk\n",
    "import Radiography_Library as RadLib\n",
    "\n",
    "RadLib.Interactive_CNR(image)"
   ]
  },
  {
   "cell_type": "markdown",
   "metadata": {},
   "source": [
    "## 5.2. Calculate Fixed CNR "
   ]
  },
  {
   "cell_type": "code",
   "execution_count": null,
   "metadata": {},
   "outputs": [],
   "source": [
    "import Radiography_Library as RadLib\n",
    "\n",
    "image_path = \"RESULTS/\" + \"a\" + \".png\"\n",
    "save_as = ''\n",
    "\n",
    "shftx_s = 0.0 # shift x-coordinate signal box\n",
    "shfty_s = 0.0 \n",
    "shftx_b = 200.0 # shift x-coordinate background box\n",
    "shfty_b = 0.0\n",
    "\n",
    "coords_signal  = [1200 + shftx_s, 1000 + shfty_s, 1800 + shftx_s, 1800 + shfty_s] # x1, y1, x2, y2\n",
    "coords_bckgrnd = [2100 + shftx_b, 1000 + shfty_b, 2300 + shftx_b, 1800 + shfty_b] # x1, y1, x2, y2\n",
    "\n",
    "RadLib.Fixed_CNR(image_path, save_as, coords_signal, coords_bckgrnd)"
   ]
  },
  {
   "cell_type": "markdown",
   "metadata": {},
   "source": [
    "## 6.1. Denoise with Skimage.Denoise_Bilateral"
   ]
  },
  {
   "cell_type": "code",
   "execution_count": null,
   "metadata": {},
   "outputs": [],
   "source": [
    "import Radiography_Library as RadLib\n",
    "\n",
    "# load array\n",
    "path = SSH_Bone\n",
    "isArray = True\n",
    "\n",
    "# or load image\n",
    "if isArray == False:\n",
    "    directory = 'RESULTS/'\n",
    "    path = directory + 'a' + '.png'\n",
    "\n",
    "sigma_color = 0.05\n",
    "sigma_spatial = 20\n",
    "\n",
    "Denoised_Image = RadLib.Denoise_EdgeDetection(path, isArray)"
   ]
  },
  {
   "cell_type": "markdown",
   "metadata": {},
   "source": [
    "## 6.2. Denoise by Fourier Transform"
   ]
  },
  {
   "cell_type": "code",
   "execution_count": null,
   "metadata": {},
   "outputs": [],
   "source": [
    "import Radiography_Library as RadLib\n",
    "\n",
    "array = htmp_array\n",
    "isHann = False\n",
    "\n",
    "alpha = 1\n",
    "\n",
    "save_as = ''\n",
    "isCrossSection = False # plot crosss-section\n",
    "\n",
    "fft_image = RadLib.Denoise(array, isHann, alpha, save_as, isCrossSection)"
   ]
  },
  {
   "cell_type": "markdown",
   "metadata": {},
   "source": [
    "## 7. Save Plotly Heatmap"
   ]
  },
  {
   "cell_type": "code",
   "execution_count": null,
   "metadata": {},
   "outputs": [],
   "source": [
    "import Radiography_Library as RadLib\n",
    "\n",
    "array = htmp_array\n",
    "# array = Denoised_Image\n",
    "# array = ACNR_Bone\n",
    "\n",
    "title   = r\"$ \\large{ \\text{Simplified Model of a Human Arm} } $\"\n",
    "x_label = r\"$ \\large{ \\text{X Axis} \\ (mm)} $\"\n",
    "y_label = r\"$ \\large{ \\text{Y Axis} \\ (mm)} $\"\n",
    "\n",
    "annotation = 'Reducen bone density from the middle down' \n",
    "\n",
    "width  = 800\n",
    "height = 800\n",
    "\n",
    "save_in = ''\n",
    "save_as = 'osteoporos'\n",
    "\n",
    "RadLib.Plotly_Heatmap(array, xlim, ylim, title, x_label, y_label, annotation, width, height, save_in, save_as)"
   ]
  },
  {
   "cell_type": "code",
   "execution_count": null,
   "metadata": {},
   "outputs": [],
   "source": [
    "def Plotly_Heatmap(array, xlim, ylim, title, x_label, y_label, annotation, width, height, save_as):\n",
    "\n",
    "    import plotly.graph_objects as go\n",
    "    import plotly.io as pio\n",
    "\n",
    "    font_family = 'Merriweather'\n",
    "    family_2    = 'Optima'\n",
    "    font_small  = 18\n",
    "    font_medium = 20\n",
    "    font_large  = 18\n",
    "\n",
    "    fig = go.Figure(go.Heatmap(z = array, x = xlim, y = ylim,\n",
    "                                colorscale = [[0, 'black'], [1, 'white']], showscale = False,\n",
    "                                colorbar = dict(title = \"Density\", tickfont = dict(family = family_2, size = 15, color = 'Black'))))\n",
    "    \n",
    "    fig.update_layout(\n",
    "                    title = dict(text = title, font = dict(family = font_family, size = font_large, color = \"Black\"), \n",
    "                                 x = 0.51, y = 0.93, yanchor = 'middle', xanchor = 'center'),\n",
    "                    xaxis_title = dict(text = x_label, font = dict(family = font_family, size = font_medium, color = \"Black\")),\n",
    "                    yaxis_title = dict(text = y_label, font = dict(family = font_family, size = font_medium, color = \"Black\")),\n",
    "                    xaxis = dict(tickfont = dict(family = family_2, size = font_small, color = \"Black\"), title_standoff = 25, range=[max(xlim), min(xlim)]),\n",
    "                    yaxis = dict(tickfont = dict(family = family_2, size = font_small, color = \"Black\"), title_standoff = 10, range=[max(xlim), min(xlim)],\n",
    "                                 showticklabels = False\n",
    "                                ),\n",
    "                    width = width, height = height, margin = dict(l = 105, r = 90, t = 90, b = 90),\n",
    "                    annotations = [dict(x = 0.95, y = 0.15,  xref = 'paper', yref = 'paper', showarrow = False,\n",
    "                                        font = dict(family = family_2, size = 18, color = \"White\"),\n",
    "                                        bgcolor = \"rgba(255, 255, 255, 0.1)\", borderpad = 8, bordercolor = \"White\", borderwidth = 0.2,\n",
    "                                        text = annotation)])\n",
    "\n",
    "    fig.add_shape(type = \"rect\", line = dict(color = \"blue\", width = 2), fillcolor = \"rgba(0, 0, 0, 0)\",\n",
    "                  x0 = 10, y0 = 10, x1 = -10, y1 = -10) \n",
    "    \n",
    "    fig.add_shape(type = \"rect\", line = dict(color = \"red\", width = 2), fillcolor = \"rgba(0, 0, 0, 0)\",\n",
    "                  x0 = 20, y0 = 20, x1 = -20, y1 = -20) \n",
    "   \n",
    "    if save_as != '': pio.write_image(fig, save_as + '.png', width = width, height = height, scale = 5)\n",
    "    fig.show()\n",
    "\n",
    "\n",
    "array = htmp_array\n",
    "\n",
    "title   = r\"$ \\large{ \\text{Low energy projection (40 keV), 100M Photons} } $\"\n",
    "title   = r\"$ \\large{ \\text{ACNR projection (40, 80 keV), 100M Photons} } $\"\n",
    "x_label = r\"$ \\large{ \\text{X Axis} \\ (mm)} $\"\n",
    "y_label = r\"$ \\large{ \\text{Y Axis} \\ (mm)} $\"\n",
    "y_label = ''\n",
    "\n",
    "annotation = 'CNR = ' \n",
    "\n",
    "width  = 700\n",
    "height = 700\n",
    "\n",
    "save_as = 'aaaa'\n",
    "\n",
    "Plotly_Heatmap(array, xlim, ylim, title, x_label, y_label, annotation, width, height, save_as)"
   ]
  },
  {
   "cell_type": "markdown",
   "metadata": {},
   "source": [
    "# CT Scan"
   ]
  },
  {
   "cell_type": "markdown",
   "metadata": {},
   "source": [
    "## Calculate projections at every angle from roots and save to CSV"
   ]
  },
  {
   "cell_type": "code",
   "execution_count": null,
   "metadata": {},
   "outputs": [],
   "source": [
    "import Radiography_Library as RadLib; import matplotlib.pyplot as plt\n",
    "\n",
    "directory = '/Volumes/GIECC/Geant4/CT/CT3/Roots'\n",
    "roots = [0, 360, 1] # start, end, degree step\n",
    "\n",
    "tree_name = \"Photons\"\n",
    "x_branch  = \"X_axis\"\n",
    "y_branch  = \"Y_axis\"\n",
    "\n",
    "dimensions = [250, 75, 0, 150] # sizeX, sizeY, shiftX, shiftY, # in mm\n",
    "\n",
    "pixel_size = 0.5 # in mm\n",
    "\n",
    "csv_folder = \"/Volumes/GIECC/Geant4/CT/CT3/CSV_raw\"\n",
    "\n",
    "htmp, xlim, ylim = RadLib.Calculate_Projections(directory, roots, tree_name, x_branch, y_branch, dimensions, pixel_size, csv_folder)\n",
    "\n",
    "plt.figure(figsize = (14, 4));  plt.subplot(1, 2, 1); plt.imshow(htmp, cmap = 'gray');  plt.subplot(1, 2, 2); plt.plot(htmp[htmp.shape[0]//2,:]); plt.show()"
   ]
  },
  {
   "cell_type": "markdown",
   "metadata": {},
   "source": [
    "## Load projections from CSV and perfrom CT reconstruction"
   ]
  },
  {
   "cell_type": "code",
   "execution_count": null,
   "metadata": {},
   "outputs": [],
   "source": [
    "import Radiography_Library as RadLib\n",
    "\n",
    "roots = [0, 360, 1] # start, end, degree step\n",
    "csv_folder = 'E:\\CT_Torax\\CSV_raw'\n",
    "radiographs = RadLib.htmps_from_csv(csv_folder, roots)\n",
    "\n",
    "log_factor = 0.2\n",
    "pixel_size = 0.5\n",
    "sigma = 1 # Sigma for applying gaussian filter to radiograph\n",
    "htmps = RadLib.LogaritmicTransformation(radiographs, log_factor, pixel_size, 2)\n",
    "\n",
    "slices = 2\n",
    "reconstruction = RadLib.RadonReconstruction(roots, htmps, slices)\n",
    "\n",
    "mu_water = 0.26748 # 40kev\n",
    "mu_water = 0.18443 # 80kev\n",
    "air_tolerance = -800\n",
    "HU_images = RadLib.coefficients_to_HU(reconstruction, slices, mu_water, air_tolerance)"
   ]
  },
  {
   "cell_type": "markdown",
   "metadata": {},
   "source": [
    "## Export to DICOM"
   ]
  },
  {
   "cell_type": "code",
   "execution_count": null,
   "metadata": {},
   "outputs": [],
   "source": [
    "directory = 'E:\\CT_Torax\\DICOM2'\n",
    "dimensions = [250, 75, 0, 150]\n",
    "size_y = dimensions[1]\n",
    "compressed = False\n",
    "RadLib.export_to_dicom(HU_images, size_y, directory, compressed)"
   ]
  }
 ],
 "metadata": {
  "kernelspec": {
   "display_name": ".venv",
   "language": "python",
   "name": "python3"
  },
  "language_info": {
   "codemirror_mode": {
    "name": "ipython",
    "version": 3
   },
   "file_extension": ".py",
   "mimetype": "text/x-python",
   "name": "python",
   "nbconvert_exporter": "python",
   "pygments_lexer": "ipython3",
   "version": "3.11.8"
  }
 },
 "nbformat": 4,
 "nbformat_minor": 2
}
