{
 "cells": [
  {
   "cell_type": "code",
   "execution_count": 1,
   "metadata": {},
   "outputs": [
    {
     "name": "stdout",
     "output_type": "stream",
     "text": [
      "Archivo 'comandos.txt' generado con éxito.\n"
     ]
    }
   ],
   "source": [
    "# Definir el nombre del archivo\n",
    "archivo_salida = \"comandos.txt\"\n",
    "\n",
    "# Abrir el archivo en modo escritura\n",
    "with open(archivo_salida, 'w') as f:\n",
    "    # Escribir la primera parte común a todos los ángulos\n",
    "    f.write(\"/Pgun/Angle 0\\n\")\n",
    "    f.write(\"/Pgun/Z -50 cm\\n\")\n",
    "    f.write(\"/gun/energy 80 keV\\n\\n\")\n",
    "    \n",
    "    # Iterar desde el ángulo 0 hasta 360\n",
    "    for angulo in range(361):\n",
    "        f.write(f\"/det/Angle {angulo}\\n\")\n",
    "        f.write(\"/run/reinitializeGeometry\\n\")\n",
    "        f.write(\"/run/beamOn 10000000\\n\\n\")\n",
    "\n",
    "print(f\"Archivo '{archivo_salida}' generado con éxito.\")\n"
   ]
  }
 ],
 "metadata": {
  "kernelspec": {
   "display_name": "Python 3",
   "language": "python",
   "name": "python3"
  },
  "language_info": {
   "codemirror_mode": {
    "name": "ipython",
    "version": 3
   },
   "file_extension": ".py",
   "mimetype": "text/x-python",
   "name": "python",
   "nbconvert_exporter": "python",
   "pygments_lexer": "ipython3",
   "version": "3.11.5"
  }
 },
 "nbformat": 4,
 "nbformat_minor": 2
}
