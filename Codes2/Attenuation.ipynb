{
 "cells": [
  {
   "cell_type": "code",
   "execution_count": 4,
   "metadata": {},
   "outputs": [
    {
     "name": "stdout",
     "output_type": "stream",
     "text": [
      "Archivo CSV guardado en: C:\\Users\\conej\\Documents\\Universidad\\Geant4\\Projects\\GIT-3\\build\\Release\\attenuation_coefficients.csv\n"
     ]
    }
   ],
   "source": [
    "import os\n",
    "import uproot\n",
    "import numpy as np\n",
    "import pandas as pd\n",
    "\n",
    "# Configuración\n",
    "sim_dir = r\"C:\\Users\\conej\\Documents\\Universidad\\Geant4\\Projects\\GIT-3\\build\\Release\"\n",
    "num_simulations = 17  # Sim0.root hasta Sim16.root (17 archivos)\n",
    "thickness = 6.3  # Thickness en cm\n",
    "energies = np.arange(20, 105, 5)  # Energías de 20 keV a 100 keV\n",
    "\n",
    "# Función para procesar el archivo ROOT y obtener hits y energía promedio\n",
    "def process_root_file(root_filename):\n",
    "    file_path = os.path.join(sim_dir, root_filename)\n",
    "    if not os.path.isfile(file_path):\n",
    "        return -1, -1  # Si el archivo no existe, devolver valores inválidos\n",
    "    \n",
    "    try:\n",
    "        with uproot.open(file_path) as file:\n",
    "            tree = file[\"G4_PCM\"]  # Asegúrate que el nombre del TTree es correcto\n",
    "            df = tree.arrays(library=\"pd\")  # Convertir a DataFrame\n",
    "        \n",
    "        # Filtrar las energías mayores que 0\n",
    "        df_filtered = df[df['Energy'] > 0]\n",
    "        hits = len(df_filtered)\n",
    "        if hits == 0:\n",
    "            return 0, 0\n",
    "        \n",
    "        # Calcular el promedio de las energías\n",
    "        avener = df_filtered['Energy'].mean()\n",
    "        return hits, avener\n",
    "    except Exception as e:\n",
    "        print(f\"Error procesando {root_filename}: {e}\")\n",
    "        return -1, -1\n",
    "\n",
    "# Función para calcular el coeficiente de atenuación\n",
    "def calculate_coeff(thickness, avener, energy, hits):\n",
    "    # Thickness ya está en cm\n",
    "    coeff = (-1 / thickness) * np.log((avener / energy) * (hits / 1000000)) / 1.036031746031746\n",
    "    return coeff\n",
    "\n",
    "# Procesar todos los archivos ROOT y calcular coeficientes\n",
    "data = []\n",
    "for i in range(num_simulations):\n",
    "    root_filename = f\"Sim{i}.root\"\n",
    "    energy = energies[i]\n",
    "    hits, avener = process_root_file(root_filename)\n",
    "    \n",
    "    if hits > 0 and avener > 0:\n",
    "        coeff = calculate_coeff(thickness, avener, energy, hits)\n",
    "        data.append([energy, coeff])\n",
    "    else:\n",
    "        print(f\"Archivo {root_filename} no pudo ser procesado correctamente.\")\n",
    "\n",
    "# Convertir los resultados a un DataFrame\n",
    "df_results = pd.DataFrame(data, columns=[\"Energy (keV)\", \"Attenuation Coeff\"])\n",
    "\n",
    "# Guardar los resultados en un archivo CSV\n",
    "output_csv = os.path.join(sim_dir, \"attenuation_coefficients.csv\")\n",
    "df_results.to_csv(output_csv, index=False)\n",
    "\n",
    "print(f\"Archivo CSV guardado en: {output_csv}\")\n"
   ]
  },
  {
   "cell_type": "code",
   "execution_count": 2,
   "metadata": {},
   "outputs": [],
   "source": [
    "thick = 6.3\n",
    "TS = 0.15*2\n",
    "TM = 2.5*2\n",
    "TA = 0.5*2\n",
    "skinD = 1.09\n",
    "muscleD = 1.05\n",
    "adiposeD = 0.95"
   ]
  },
  {
   "cell_type": "code",
   "execution_count": 3,
   "metadata": {},
   "outputs": [
    {
     "data": {
      "text/plain": [
       "1.036031746031746"
      ]
     },
     "execution_count": 3,
     "metadata": {},
     "output_type": "execute_result"
    }
   ],
   "source": [
    "(skinD*(TS/thick))+(muscleD*(TM/thick))+(adiposeD*(TA/thick))"
   ]
  }
 ],
 "metadata": {
  "kernelspec": {
   "display_name": "Python 3",
   "language": "python",
   "name": "python3"
  },
  "language_info": {
   "codemirror_mode": {
    "name": "ipython",
    "version": 3
   },
   "file_extension": ".py",
   "mimetype": "text/x-python",
   "name": "python",
   "nbconvert_exporter": "python",
   "pygments_lexer": "ipython3",
   "version": "3.11.5"
  }
 },
 "nbformat": 4,
 "nbformat_minor": 2
}
