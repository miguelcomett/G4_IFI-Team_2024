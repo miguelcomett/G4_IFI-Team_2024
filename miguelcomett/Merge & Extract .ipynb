{
 "cells": [
  {
   "cell_type": "markdown",
   "metadata": {},
   "source": [
    "# Merge Root Files or Create CSV"
   ]
  },
  {
   "cell_type": "markdown",
   "metadata": {},
   "source": [
    "## Merge Root Files"
   ]
  },
  {
   "cell_type": "code",
   "execution_count": 1,
   "metadata": {},
   "outputs": [],
   "source": [
    "import uproot\n",
    "import os\n",
    "import numpy as np\n",
    "\n",
    "def merge_files(directory, starts_with, output_name):\n",
    "\n",
    "    file_list = []\n",
    "\n",
    "    for file in os.listdir(directory):\n",
    "        if file.endswith('.root') and not file.startswith('merge') and not file.startswith(output_name):\n",
    "            if not starts_with == '' and file.startswith(starts_with):\n",
    "                    file_list.append(os.path.join(directory, file))\n",
    "            else:\n",
    "                file_list.append(os.path.join(directory, file))\n",
    "    \n",
    "    merged_file = os.path.join(directory, output_name)\n",
    "    \n",
    "    counter = 0\n",
    "    while True:\n",
    "        if not os.path.exists(f\"{merged_file}{counter}.root\"):\n",
    "            merged_file = f\"{merged_file}{counter}.root\"\n",
    "            break\n",
    "        counter = counter + 1\n",
    "\n",
    "    with uproot.recreate(merged_file) as f_out:\n",
    "        data_dict = {}  # Dictionary to store merged data temporarily\n",
    "        \n",
    "        for file in file_list:\n",
    "            \n",
    "            with uproot.open(file) as f_in:\n",
    "                for key in f_in.keys():\n",
    "                    obj = f_in[key]\n",
    "                    \n",
    "                    if isinstance(obj, uproot.TTree):\n",
    "                        new_data = obj.arrays(library=\"np\")\n",
    "                        \n",
    "                        # Extract base key name (ignore cycle numbers)\n",
    "                        base_key = key.split(';')[0]\n",
    "\n",
    "                        # If base_key is already in data_dict, concatenate data\n",
    "                        if base_key in data_dict:\n",
    "                            existing_data = data_dict[base_key]\n",
    "                            combined_data = {k: np.concatenate([existing_data[k], new_data[k]]) for k in new_data.keys() if k in existing_data}\n",
    "                            # Update with the combined data\n",
    "                            data_dict[base_key] = {**existing_data, **combined_data}\n",
    "                        else:\n",
    "                            # If base_key is not in data_dict, add new data\n",
    "                            data_dict[base_key] = new_data\n",
    "\n",
    "        for key, data in data_dict.items():\n",
    "            f_out[key] = data\n",
    "\n",
    "\n",
    "    print(\"Merged files into\", merged_file)"
   ]
  },
  {
   "cell_type": "code",
   "execution_count": 3,
   "metadata": {},
   "outputs": [
    {
     "name": "stdout",
     "output_type": "stream",
     "text": [
      "Merged files into BUILD/ROOT/merge0.root\n"
     ]
    }
   ],
   "source": [
    "directory = 'BUILD/ROOT'\n",
    "starts_with = 'root'\n",
    "output_name = 'merge'\n",
    "\n",
    "merge_files(directory, starts_with, output_name)"
   ]
  },
  {
   "cell_type": "markdown",
   "metadata": {},
   "source": [
    "## Draw Graph from .root File"
   ]
  },
  {
   "cell_type": "code",
   "execution_count": 1,
   "metadata": {},
   "outputs": [],
   "source": [
    "import uproot\n",
    "import matplotlib.pyplot as plt\n",
    "import os\n",
    "\n",
    "def scatterplot_from_root(directory, input_file, tree_name, x_branch, y_branch, title, x_label, y_label, output_image):\n",
    "\n",
    "    input_file_path = os.path.join(directory, input_file)\n",
    "    \n",
    "    with uproot.open(input_file_path) as file:\n",
    "        tree = file[tree_name]\n",
    "        \n",
    "        x_values = tree[x_branch].array()\n",
    "        y_values = tree[y_branch].array()\n",
    "\n",
    "    plt.figure(figsize=(8, 6))\n",
    "    plt.scatter(x_values, y_values, color='blue', s=10, edgecolor='black')\n",
    "    \n",
    "    plt.title(title)\n",
    "    plt.xlabel(x_label)\n",
    "    plt.ylabel(y_label)\n",
    "\n",
    "    plt.savefig(output_image + '.jpg', format='jpg', dpi = 300)\n",
    "    plt.close()\n",
    "    \n",
    "    print(f' ===== Scatter plot saved as {output_image}.jpg =====')"
   ]
  },
  {
   "cell_type": "code",
   "execution_count": null,
   "metadata": {},
   "outputs": [],
   "source": [
    "directory = 'build/root'\n",
    "file_name = 'merged0' + '.root'\n",
    "\n",
    "tree_name = \"Photons\"\n",
    "x_branch = \"X_axis\"\n",
    "y_branch = \"Y_axis\"\n",
    "\n",
    "title = \"title\"\n",
    "x_label = \"x axis\"\n",
    "y_label = \"y axis\"\n",
    "\n",
    "output_image = \"xy_plot3\"\n",
    "\n",
    "scatterplot_from_root(directory, file_name, tree_name, x_branch, y_branch, title, x_label, y_label, output_image)"
   ]
  },
  {
   "cell_type": "markdown",
   "metadata": {},
   "source": [
    "## Extract .root -> CSV File"
   ]
  },
  {
   "cell_type": "code",
   "execution_count": 10,
   "metadata": {},
   "outputs": [],
   "source": [
    "import uproot\n",
    "import os\n",
    "import csv\n",
    "import numpy as np\n",
    "\n",
    "def copy_data_csv(directory, root_name_starts, tree_name, \n",
    "                  x_branch, y_branch, z_branch, decimal_places, csv_save_as):\n",
    "    csv_file = os.path.join(directory, csv_save_as)\n",
    "    \n",
    "    with open(csv_file, 'w', newline='') as file:\n",
    "        writer = csv.writer(file)\n",
    "        writer.writerow([x_branch, y_branch])\n",
    "        # writer.writerow(['File', tree_name, x_branch, y_branch, z_branch])\n",
    "        \n",
    "        count = 0\n",
    "        for file_name in sorted(os.listdir(directory)):\n",
    "\n",
    "            if file_name.endswith('.root') and file_name.startswith(root_name_starts):\n",
    "                file_path = os.path.join(directory, file_name)\n",
    "\n",
    "                try:\n",
    "                    # Open the ROOT file using uproot\n",
    "                    with uproot.open(file_path) as root_file:\n",
    "                        tree = root_file[tree_name]\n",
    "                        if tree is None and count == 0:\n",
    "                            print(f\"Tree '{tree_name}' not found in {file_path}\")\n",
    "                            count += 1\n",
    "                            continue\n",
    "\n",
    "                        # Extract branches as arrays\n",
    "                        x_values = tree[x_branch].array() if x_branch in tree else None\n",
    "                        y_values = tree[y_branch].array() if y_branch in tree else None\n",
    "                        z_values = tree[z_branch].array() if z_branch in tree else None\n",
    "\n",
    "                        x_values = np.round(x_values, decimal_places) if x_branch in tree else None\n",
    "                        y_values = np.round(y_values, decimal_places) if x_branch in tree else None\n",
    "\n",
    "                        # Write data to CSV\n",
    "                        for i in range(len(x_values)):\n",
    "                            row = [x_values[i]]\n",
    "                            # row = [file_name, tree_name, x_values[i]]\n",
    "                            if y_values is not None:\n",
    "                                row.append(y_values[i])\n",
    "                            if z_values is not None:\n",
    "                                row.append(z_values[i])\n",
    "                            writer.writerow(row)\n",
    "\n",
    "                except Exception as e: print(f\"Error processing {file_path}: {e}\")\n",
    "                \n",
    "    print('CSV file created as:', csv_file)"
   ]
  },
  {
   "cell_type": "code",
   "execution_count": null,
   "metadata": {},
   "outputs": [],
   "source": [
    "directory = 'build/root/'\n",
    "root_name_starts = \"merge2\"\n",
    "\n",
    "tree_name = \"Photons\"\n",
    "x_branch  = \"X_axis\"\n",
    "y_branch  = \"Y_axis\"\n",
    "z_branch  = \"\"\n",
    "\n",
    "decimal_places = 2\n",
    "\n",
    "csv_save_as = 'problema' + '.csv'\n",
    "\n",
    "copy_data_csv(directory, root_name_starts, tree_name, \n",
    "              x_branch, y_branch, z_branch, decimal_places, csv_save_as)"
   ]
  }
 ],
 "metadata": {
  "kernelspec": {
   "display_name": "base",
   "language": "python",
   "name": "python3"
  },
  "language_info": {
   "codemirror_mode": {
    "name": "ipython",
    "version": 3
   },
   "file_extension": ".py",
   "mimetype": "text/x-python",
   "name": "python",
   "nbconvert_exporter": "python",
   "pygments_lexer": "ipython3",
   "version": "3.11.8"
  }
 },
 "nbformat": 4,
 "nbformat_minor": 2
}
