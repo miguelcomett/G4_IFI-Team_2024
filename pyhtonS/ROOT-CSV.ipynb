{
 "cells": [
  {
   "cell_type": "code",
   "execution_count": 1,
   "metadata": {},
   "outputs": [],
   "source": [
    "import uproot\n",
    "import pandas as pd\n",
    "import os"
   ]
  },
  {
   "cell_type": "code",
   "execution_count": null,
   "metadata": {},
   "outputs": [],
   "source": [
    "# Ruta a la carpeta con los archivos ROOT\n",
    "input_directory = 'C:/Users/conej/Documents/Universidad/Geant4/Projects/Git/G4-PCM/build/Release/'\n",
    "\n",
    "# Lista todos los archivos en la carpeta\n",
    "files = [f for f in os.listdir(input_directory) if f.startswith('Sim') and f.endswith('.root')]\n",
    "\n",
    "for file in files:\n",
    "    file_path = os.path.join(input_directory, file)\n",
    "    # Abre el archivo ROOT\n",
    "    with uproot.open(file_path) as root_file:\n",
    "        # Accede al árbol principal, asumiendo que se llama 'G4_PCM'\n",
    "        tree = root_file['G4_PCM']\n",
    "        \n",
    "        # Convierte el árbol a un DataFrame de pandas\n",
    "        df = tree.pandas.df(['Energy', 'PositionX', 'PositionY', 'PositionZ'])\n",
    "        \n",
    "        # Define el nombre del archivo CSV\n",
    "        csv_file = file.replace('.root', '.csv')\n",
    "        csv_path = os.path.join(input_directory, csv_file)\n",
    "        \n",
    "        # Guarda el DataFrame como un archivo CSV\n",
    "        df.to_csv(csv_path, index=False)\n",
    "\n",
    "    print(f'Converted {file} to {csv_file}')\n"
   ]
  }
 ],
 "metadata": {
  "kernelspec": {
   "display_name": "Python 3",
   "language": "python",
   "name": "python3"
  },
  "language_info": {
   "codemirror_mode": {
    "name": "ipython",
    "version": 3
   },
   "file_extension": ".py",
   "mimetype": "text/x-python",
   "name": "python",
   "nbconvert_exporter": "python",
   "pygments_lexer": "ipython3",
   "version": "3.11.5"
  }
 },
 "nbformat": 4,
 "nbformat_minor": 2
}
