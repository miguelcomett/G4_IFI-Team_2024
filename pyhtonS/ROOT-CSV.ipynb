{
 "cells": [
  {
   "cell_type": "code",
   "execution_count": 10,
   "metadata": {},
   "outputs": [],
   "source": [
    "import uproot\n",
    "import pandas as pd\n",
    "import os\n",
    "from tqdm import tqdm"
   ]
  },
  {
   "cell_type": "code",
   "execution_count": 11,
   "metadata": {},
   "outputs": [
    {
     "name": "stderr",
     "output_type": "stream",
     "text": [
      "Processing ROOT files: 100%|██████████| 50/50 [07:17<00:00,  8.75s/file]\n"
     ]
    },
    {
     "name": "stdout",
     "output_type": "stream",
     "text": [
      "All ROOT files combined into combined_data.csv\n"
     ]
    }
   ],
   "source": [
    "# Ruta a la carpeta con los archivos ROOT\n",
    "input_directory = 'C:\\\\Users\\\\conej\\\\Documents\\\\Universidad\\\\Geant4\\\\Projects\\\\GIT-3\\\\build\\\\Release'\n",
    "\n",
    "# Lista todos los archivos en la carpeta\n",
    "files = [f for f in os.listdir(input_directory) if f.startswith('Sim') and f.endswith('.root')]\n",
    "\n",
    "# Lista para almacenar los DataFrames\n",
    "dfs = []\n",
    "\n",
    "# Usa tqdm para mostrar la barra de progreso\n",
    "for file in tqdm(files, desc=\"Processing ROOT files\", unit=\"file\"):\n",
    "    file_path = os.path.join(input_directory, file)\n",
    "    # Abre el archivo ROOT\n",
    "    with uproot.open(file_path) as root_file:\n",
    "        # Accede al árbol principal, asumiendo que se llama 'G4_PCM'\n",
    "        tree = root_file['G4_PCM']\n",
    "        \n",
    "        # Convierte el árbol a un DataFrame de pandas\n",
    "        data = tree.arrays(['Energy', 'PositionX', 'PositionY', 'PositionZ'], library='pd')\n",
    "        \n",
    "        # Añade el DataFrame a la lista\n",
    "        dfs.append(data)\n",
    "\n",
    "# Concatena todos los DataFrames\n",
    "combined_df = pd.concat(dfs, ignore_index=True)\n",
    "\n",
    "# Define el nombre del archivo CSV\n",
    "output_csv = 'combined_data.csv'\n",
    "output_path = os.path.join(input_directory, output_csv)\n",
    "\n",
    "# Guarda el DataFrame combinado como un archivo CSV\n",
    "combined_df.to_csv(output_path, index=False)\n",
    "\n",
    "print(f'All ROOT files combined into {output_csv}')"
   ]
  }
 ],
 "metadata": {
  "kernelspec": {
   "display_name": "Python 3",
   "language": "python",
   "name": "python3"
  },
  "language_info": {
   "codemirror_mode": {
    "name": "ipython",
    "version": 3
   },
   "file_extension": ".py",
   "mimetype": "text/x-python",
   "name": "python",
   "nbconvert_exporter": "python",
   "pygments_lexer": "ipython3",
   "version": "3.11.5"
  }
 },
 "nbformat": 4,
 "nbformat_minor": 2
}
