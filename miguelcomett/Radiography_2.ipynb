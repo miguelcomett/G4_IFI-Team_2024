{
 "cells": [
  {
   "cell_type": "markdown",
   "metadata": {},
   "source": [
    "## 1. Merge Root Files"
   ]
  },
  {
   "cell_type": "code",
   "execution_count": null,
   "metadata": {},
   "outputs": [],
   "source": [
    "import Radiography_Library as RadLib\n",
    "\n",
    "directory = 'BUILD/ROOT'\n",
    "starts_with = 'root'\n",
    "output_name = 'merge'\n",
    "\n",
    "RadLib.Merge_Roots(directory, starts_with, output_name)"
   ]
  },
  {
   "cell_type": "markdown",
   "metadata": {},
   "source": [
    "## 2. Root to Dataframe"
   ]
  },
  {
   "cell_type": "code",
   "execution_count": 1,
   "metadata": {},
   "outputs": [],
   "source": [
    "import Radiography_Library as RadLib\n",
    "\n",
    "directory = 'RESULTS/'\n",
    "root_name_starts = \"RealTube\"\n",
    "\n",
    "tree_name = \"Photons\"\n",
    "x_branch  = \"X_axis\"\n",
    "y_branch  = \"Y_axis\"\n",
    "\n",
    "x_data, y_data = RadLib.Root_to_Dask(directory, root_name_starts, tree_name, x_branch, y_branch)"
   ]
  },
  {
   "cell_type": "markdown",
   "metadata": {},
   "source": [
    "## 3. Dask Dataframe to Heatmap"
   ]
  },
  {
   "cell_type": "code",
   "execution_count": null,
   "metadata": {},
   "outputs": [],
   "source": [
    "import Radiography_Library as RadLib\n",
    "\n",
    "size = 70\n",
    "log_factor = 1e-10\n",
    "\n",
    "x_shift = 0\n",
    "y_shift = 0\n",
    "\n",
    "save_as = ''\n",
    "htmp_array, xlim, ylim = RadLib.Heatmap_from_Dask(x_data, y_data, size, log_factor, x_shift, y_shift, save_as)"
   ]
  },
  {
   "cell_type": "markdown",
   "metadata": {},
   "source": [
    "## 4.1. Isolate Bone from Tissue"
   ]
  },
  {
   "cell_type": "markdown",
   "metadata": {},
   "source": [
    "Load Roots"
   ]
  },
  {
   "cell_type": "code",
   "execution_count": null,
   "metadata": {},
   "outputs": [],
   "source": [
    "import Radiography_Library as RadLib\n",
    "\n",
    "directory = 'RESULTS/'\n",
    "# rootnames = [\"RC40K100M\", \"RC80K100M\"]\n",
    "rootnames = [\"prueba_40k\", \"prueba_80k\"]\n",
    "\n",
    "tree_name = \"Photons\"\n",
    "x_branch  = \"X_axis\"\n",
    "y_branch  = \"Y_axis\"\n",
    "\n",
    "x_1, y_1, x_2, y_2 = RadLib.LoadRoots(directory, rootnames, tree_name, x_branch, y_branch)"
   ]
  },
  {
   "cell_type": "markdown",
   "metadata": {},
   "source": [
    "Calculate Heatmaps"
   ]
  },
  {
   "cell_type": "code",
   "execution_count": null,
   "metadata": {},
   "outputs": [],
   "source": [
    "import matplotlib.pyplot as plt\n",
    "\n",
    "x_shift = 0.0\n",
    "y_shift = 0\n",
    "\n",
    "size = 60\n",
    "log_factor = 0.01\n",
    "\n",
    "low_energy_img, xlim, ylim = RadLib.Heatmap_from_Dask(x_1, y_1, size, log_factor, x_shift, y_shift, '')\n",
    "high_energy_img, xlim, ylim = RadLib.Heatmap_from_Dask(x_2, y_2, size, log_factor, x_shift, y_shift, '')\n",
    "\n",
    "# low_energy_img  = (low_energy_img * 255).astype(np.uint8)\n",
    "# high_energy_img = (high_energy_img * 255).astype(np.uint8)\n",
    "\n",
    "plt.close()\n",
    "plt.close()"
   ]
  },
  {
   "cell_type": "markdown",
   "metadata": {},
   "source": [
    "Plot Heatmaps"
   ]
  },
  {
   "cell_type": "code",
   "execution_count": null,
   "metadata": {},
   "outputs": [],
   "source": [
    "import Radiography_Library as RadLib\n",
    "\n",
    "save_as = ''\n",
    "SSH_Bone, ACNR_Bone = RadLib.IsolateTissues(low_energy_img, high_energy_img, save_as)"
   ]
  },
  {
   "cell_type": "markdown",
   "metadata": {},
   "source": [
    "## 4.2. Bone Mineral Density (BMD)"
   ]
  },
  {
   "cell_type": "code",
   "execution_count": null,
   "metadata": {},
   "outputs": [],
   "source": [
    "import Radiography_Library as RadLib\n",
    "thickness_bone = RadLib.BMO(SLS_Bone, SLS_Tissue)"
   ]
  },
  {
   "cell_type": "markdown",
   "metadata": {},
   "source": [
    "Plot Interactive Heatmap"
   ]
  },
  {
   "cell_type": "code",
   "execution_count": null,
   "metadata": {},
   "outputs": [],
   "source": [
    "import plotly.graph_objects as go\n",
    "import plotly.io as pio\n",
    "\n",
    "fig = go.Figure(go.Heatmap(z = thickness_bone, x = xlim, y = ylim))\n",
    "fig.update_layout(width = 400, height = 400, xaxis = dict(autorange = 'reversed'), yaxis = dict(autorange = 'reversed'))    \n",
    "fig.show()"
   ]
  },
  {
   "cell_type": "markdown",
   "metadata": {},
   "source": [
    "## 5.1. Calculate Interactive CNR"
   ]
  },
  {
   "cell_type": "markdown",
   "metadata": {},
   "source": [
    "Trim Image"
   ]
  },
  {
   "cell_type": "code",
   "execution_count": null,
   "metadata": {},
   "outputs": [],
   "source": [
    "from PIL import Image\n",
    "import matplotlib.pyplot as plt\n",
    "\n",
    "directory = 'RESULTS/'\n",
    "image = 'a' + '.png'\n",
    "image = Image.open(directory + image)\n",
    "image = image.convert('L')\n",
    "\n",
    "# cropped_image = image.crop((1000, 1300, image.width - 1000, image.width - 1300))\n",
    "cropped_image = image\n",
    "plt.imshow(cropped_image, cmap='gray')"
   ]
  },
  {
   "cell_type": "markdown",
   "metadata": {},
   "source": [
    "Launch Interactive CNR"
   ]
  },
  {
   "cell_type": "code",
   "execution_count": null,
   "metadata": {},
   "outputs": [],
   "source": [
    "%matplotlib widget\n",
    "%matplotlib tk\n",
    "import Radiography_Library as RadLib\n",
    "\n",
    "RadLib.Interactive_CNR(cropped_image)"
   ]
  },
  {
   "cell_type": "markdown",
   "metadata": {},
   "source": [
    "## 5.2. Calculate Fixed CNR "
   ]
  },
  {
   "cell_type": "code",
   "execution_count": null,
   "metadata": {},
   "outputs": [],
   "source": [
    "import Radiography_Library as RadLib\n",
    "\n",
    "image_path = \"RESULTS/\" + \"a\" + \".png\"\n",
    "save_as = ''\n",
    "\n",
    "shftx_s = 0.0 # shift x-coordinate signal box\n",
    "shfty_s = 0.0 \n",
    "shftx_b = 200.0 # shift x-coordinate background box\n",
    "shfty_b = 0.0\n",
    "\n",
    "coords_signal  = [1200 + shftx_s, 1000 + shfty_s, 1800 + shftx_s, 1800 + shfty_s] # x1, y1, x2, y2\n",
    "coords_bckgrnd = [2100 + shftx_b, 1000 + shfty_b, 2300 + shftx_b, 1800 + shfty_b] # x1, y1, x2, y2\n",
    "\n",
    "RadLib.Fixed_CNR(image_path, save_as, coords_signal, coords_bckgrnd)"
   ]
  },
  {
   "cell_type": "markdown",
   "metadata": {},
   "source": [
    "## 6.1. Denoise with Skimage.Denoise_Bilateral"
   ]
  },
  {
   "cell_type": "code",
   "execution_count": null,
   "metadata": {},
   "outputs": [],
   "source": [
    "import Radiography_Library as RadLib\n",
    "\n",
    "# load array\n",
    "path = SSH_Bone\n",
    "isArray = True\n",
    "\n",
    "# or load image\n",
    "if isArray == False:\n",
    "    directory = 'RESULTS/'\n",
    "    path = directory + 'a' + '.png'\n",
    "\n",
    "sigma_color = 0.05\n",
    "sigma_spatial = 20\n",
    "\n",
    "Denoised_Image = RadLib.Denoise_EdgeDetection(path, isArray)"
   ]
  },
  {
   "cell_type": "markdown",
   "metadata": {},
   "source": [
    "## 6.2. Denoise by Fourier Transform"
   ]
  },
  {
   "cell_type": "code",
   "execution_count": null,
   "metadata": {},
   "outputs": [],
   "source": [
    "import Radiography_Library as RadLib\n",
    "\n",
    "array = htmp_array\n",
    "isHann = False\n",
    "\n",
    "alpha = 1\n",
    "\n",
    "save_as = ''\n",
    "isCrossSection = False # plot crosss-section\n",
    "\n",
    "fft_image = RadLib.Denoise(array, isHann, alpha, save_as, isCrossSection)"
   ]
  },
  {
   "cell_type": "markdown",
   "metadata": {},
   "source": [
    "## 7. Save Plotly Heatmap"
   ]
  },
  {
   "cell_type": "code",
   "execution_count": null,
   "metadata": {},
   "outputs": [],
   "source": [
    "import Radiography_Library as RadLib\n",
    "\n",
    "# array = htmp_array\n",
    "array = Denoised_Image\n",
    "# array = SLS_Bone\n",
    "\n",
    "title   = r\"$ \\large{ \\text{Denoised Isolated Bone, DEXA: 40, 80 keV, 250M Beams} } $\"\n",
    "x_label = r\"$ \\large{ \\text{X Axis} \\ (mm)} $\"\n",
    "y_label = r\"$ \\large{ \\text{Y Axis} \\ (mm)} $\"\n",
    "\n",
    "annotation = 'CNR = 9.1' \n",
    "\n",
    "width  = 800\n",
    "height = 800\n",
    "\n",
    "save_as = ''\n",
    "\n",
    "RadLib.Plotly_Heatmap(array, xlim, ylim, title, x_label, y_label, annotation, width, height, save_as)"
   ]
  }
 ],
 "metadata": {
  "kernelspec": {
   "display_name": ".venv",
   "language": "python",
   "name": "python3"
  },
  "language_info": {
   "codemirror_mode": {
    "name": "ipython",
    "version": 3
   },
   "file_extension": ".py",
   "mimetype": "text/x-python",
   "name": "python",
   "nbconvert_exporter": "python",
   "pygments_lexer": "ipython3",
   "version": "3.11.8"
  }
 },
 "nbformat": 4,
 "nbformat_minor": 2
}
